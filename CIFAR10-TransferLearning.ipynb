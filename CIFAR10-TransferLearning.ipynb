{
 "cells": [
  {
   "cell_type": "code",
   "execution_count": 4,
   "metadata": {},
   "outputs": [],
   "source": [
    "#import necessary libraries\n",
    "from keras.applications.vgg19 import VGG19    #by using Keras, we can import pre-trained model : VGG19\n",
    "from keras.models import Sequential\n",
    "from keras.utils import to_categorical\n",
    "from keras.layers import Dense, Flatten\n",
    "from keras.datasets import cifar10            #Cıfar10 dataset is embedded into the keras, we can automatically import\n",
    "import matplotlib.pyplot as plt\n",
    "import cv2\n",
    "import numpy as np"
   ]
  },
  {
   "cell_type": "code",
   "execution_count": 2,
   "metadata": {},
   "outputs": [],
   "source": [
    "numberOfClass = 10   #number of our objects"
   ]
  },
  {
   "cell_type": "code",
   "execution_count": 3,
   "metadata": {},
   "outputs": [
    {
     "name": "stdout",
     "output_type": "stream",
     "text": [
      "x_train shape (50000, 32, 32, 3)\n",
      "train sample: 50000\n"
     ]
    }
   ],
   "source": [
    "#Load dataset into variables.For example, For training: x_train is our images and y_train is our labels\n",
    "(x_train, y_train),(x_test, y_test) = cifar10.load_data()\n",
    "print(\"x_train shape\",x_train.shape)\n",
    "print(\"train sample:\",x_train.shape[0])\n",
    "#by looking at shape, we can say that 50000 samples, each has 32x32 resolution, 3 is channel number (RGB)\n"
   ]
  },
  {
   "cell_type": "code",
   "execution_count": 4,
   "metadata": {},
   "outputs": [],
   "source": [
    "y_train = to_categorical(y_train, numberOfClass) #we use one-hot encoding with the size of number of classes.\n",
    "y_test = to_categorical(y_test, numberOfClass)"
   ]
  },
  {
   "cell_type": "code",
   "execution_count": 5,
   "metadata": {},
   "outputs": [],
   "source": [
    "input_shape = x_train.shape[1:]   #our input shape and when we build model, we can use this variable."
   ]
  },
  {
   "cell_type": "code",
   "execution_count": 6,
   "metadata": {},
   "outputs": [
    {
     "data": {
      "image/png": "[encoded data removed]",
      "text/plain": [
       "<Figure size 432x288 with 1 Axes>"
      ]
     },
     "metadata": {
      "needs_background": "light"
     },
     "output_type": "display_data"
    }
   ],
   "source": [
    "# visualize one of images.\n",
    "plt.imshow(x_train[5511].astype(np.uint8))\n",
    "plt.axis(\"off\")\n",
    "plt.show()"
   ]
  },
  {
   "cell_type": "code",
   "execution_count": 7,
   "metadata": {},
   "outputs": [],
   "source": [
    "# Increase dimension because our default input size of model 48x48x3. Therefore, we need to resize our images from 32x32 to 48x48\n",
    "def resize_img(img):\n",
    "    numberOfImage = img.shape[0]\n",
    "    new_array = np.zeros((numberOfImage, 48,48,3))\n",
    "    for i in range(numberOfImage):\n",
    "        new_array[i] = cv2.resize(img[i,:,:,:],(48,48))\n",
    "    return new_array"
   ]
  },
  {
   "cell_type": "code",
   "execution_count": 8,
   "metadata": {},
   "outputs": [
    {
     "name": "stdout",
     "output_type": "stream",
     "text": [
      "increased dim x_train:  (50000, 48, 48, 3)\n"
     ]
    }
   ],
   "source": [
    "x_train = resize_img(x_train)   #our resized data set\n",
    "x_test = resize_img(x_test)\n",
    "print(\"increased dim x_train: \",x_train.shape)  #shape is changes"
   ]
  },
  {
   "cell_type": "code",
   "execution_count": 9,
   "metadata": {},
   "outputs": [
    {
     "data": {
      "image/png": "[encoded data removed]",
      "text/plain": [
       "<Figure size 432x288 with 1 Axes>"
      ]
     },
     "metadata": {
      "needs_background": "light"
     },
     "output_type": "display_data"
    }
   ],
   "source": [
    "plt.figure()\n",
    "plt.imshow(x_train[5511].astype(np.uint8))\n",
    "plt.axis(\"off\")\n",
    "plt.show()   #our resized image (bigger than the previous)"
   ]
  },
  {
   "cell_type": "code",
   "execution_count": null,
   "metadata": {},
   "outputs": [],
   "source": []
  },
  {
   "cell_type": "code",
   "execution_count": 10,
   "metadata": {},
   "outputs": [
    {
     "name": "stdout",
     "output_type": "stream",
     "text": [
      "WARNING:tensorflow:From C:\\ProgramData\\Anaconda3\\envs\\transferpy37\\lib\\site-packages\\keras\\backend\\tensorflow_backend.py:4070: The name tf.nn.max_pool is deprecated. Please use tf.nn.max_pool2d instead.\n",
      "\n",
      "Model: \"vgg19\"\n",
      "_________________________________________________________________\n",
      "Layer (type)                 Output Shape              Param #   \n",
      "=================================================================\n",
      "input_1 (InputLayer)         (None, 48, 48, 3)         0         \n",
      "_________________________________________________________________\n",
      "block1_conv1 (Conv2D)        (None, 48, 48, 64)        1792      \n",
      "_________________________________________________________________\n",
      "block1_conv2 (Conv2D)        (None, 48, 48, 64)        36928     \n",
      "_________________________________________________________________\n",
      "block1_pool (MaxPooling2D)   (None, 24, 24, 64)        0         \n",
      "_________________________________________________________________\n",
      "block2_conv1 (Conv2D)        (None, 24, 24, 128)       73856     \n",
      "_________________________________________________________________\n",
      "block2_conv2 (Conv2D)        (None, 24, 24, 128)       147584    \n",
      "_________________________________________________________________\n",
      "block2_pool (MaxPooling2D)   (None, 12, 12, 128)       0         \n",
      "_________________________________________________________________\n",
      "block3_conv1 (Conv2D)        (None, 12, 12, 256)       295168    \n",
      "_________________________________________________________________\n",
      "block3_conv2 (Conv2D)        (None, 12, 12, 256)       590080    \n",
      "_________________________________________________________________\n",
      "block3_conv3 (Conv2D)        (None, 12, 12, 256)       590080    \n",
      "_________________________________________________________________\n",
      "block3_conv4 (Conv2D)        (None, 12, 12, 256)       590080    \n",
      "_________________________________________________________________\n",
      "block3_pool (MaxPooling2D)   (None, 6, 6, 256)         0         \n",
      "_________________________________________________________________\n",
      "block4_conv1 (Conv2D)        (None, 6, 6, 512)         1180160   \n",
      "_________________________________________________________________\n",
      "block4_conv2 (Conv2D)        (None, 6, 6, 512)         2359808   \n",
      "_________________________________________________________________\n",
      "block4_conv3 (Conv2D)        (None, 6, 6, 512)         2359808   \n",
      "_________________________________________________________________\n",
      "block4_conv4 (Conv2D)        (None, 6, 6, 512)         2359808   \n",
      "_________________________________________________________________\n",
      "block4_pool (MaxPooling2D)   (None, 3, 3, 512)         0         \n",
      "_________________________________________________________________\n",
      "block5_conv1 (Conv2D)        (None, 3, 3, 512)         2359808   \n",
      "_________________________________________________________________\n",
      "block5_conv2 (Conv2D)        (None, 3, 3, 512)         2359808   \n",
      "_________________________________________________________________\n",
      "block5_conv3 (Conv2D)        (None, 3, 3, 512)         2359808   \n",
      "_________________________________________________________________\n",
      "block5_conv4 (Conv2D)        (None, 3, 3, 512)         2359808   \n",
      "_________________________________________________________________\n",
      "block5_pool (MaxPooling2D)   (None, 1, 1, 512)         0         \n",
      "=================================================================\n",
      "Total params: 20,024,384\n",
      "Trainable params: 20,024,384\n",
      "Non-trainable params: 0\n",
      "_________________________________________________________________\n",
      "None\n",
      "<class 'keras.engine.training.Model'>\n"
     ]
    }
   ],
   "source": [
    "vgg = VGG19(include_top = False, weights = \"imagenet\", input_shape = (48,48,3))   #load model and summary it\n",
    "print(vgg.summary())\n",
    "print(type(vgg))"
   ]
  },
  {
   "cell_type": "code",
   "execution_count": 11,
   "metadata": {},
   "outputs": [
    {
     "data": {
      "text/plain": [
       "[<keras.engine.input_layer.InputLayer at 0x142f86d5488>,\n",
       " <keras.layers.convolutional.Conv2D at 0x142f7f37648>,\n",
       " <keras.layers.convolutional.Conv2D at 0x142f815e588>,\n",
       " <keras.layers.pooling.MaxPooling2D at 0x142f8727fc8>,\n",
       " <keras.layers.convolutional.Conv2D at 0x142f8727d08>,\n",
       " <keras.layers.convolutional.Conv2D at 0x142f8755a08>,\n",
       " <keras.layers.pooling.MaxPooling2D at 0x142f877fb08>,\n",
       " <keras.layers.convolutional.Conv2D at 0x142f87bd1c8>,\n",
       " <keras.layers.convolutional.Conv2D at 0x142f87b0348>,\n",
       " <keras.layers.convolutional.Conv2D at 0x142f87e5148>,\n",
       " <keras.layers.convolutional.Conv2D at 0x142f8828588>,\n",
       " <keras.layers.pooling.MaxPooling2D at 0x142f886b508>,\n",
       " <keras.layers.convolutional.Conv2D at 0x142f8894a08>,\n",
       " <keras.layers.convolutional.Conv2D at 0x142f887bc88>,\n",
       " <keras.layers.convolutional.Conv2D at 0x142f88d33c8>,\n",
       " <keras.layers.convolutional.Conv2D at 0x142f8906588>,\n",
       " <keras.layers.pooling.MaxPooling2D at 0x142f8938408>,\n",
       " <keras.layers.convolutional.Conv2D at 0x142f89643c8>,\n",
       " <keras.layers.convolutional.Conv2D at 0x142f8953488>,\n",
       " <keras.layers.convolutional.Conv2D at 0x142f89a89c8>,\n",
       " <keras.layers.convolutional.Conv2D at 0x142f89d3548>,\n",
       " <keras.layers.pooling.MaxPooling2D at 0x142f8a14e08>]"
      ]
     },
     "execution_count": 11,
     "metadata": {},
     "output_type": "execute_result"
    }
   ],
   "source": [
    "vgg_layer_list = vgg.layers\n",
    "vgg_layer_list   #this list hold the all layers in our model."
   ]
  },
  {
   "cell_type": "code",
   "execution_count": 12,
   "metadata": {},
   "outputs": [],
   "source": [
    "model = Sequential()    #we create our model, named \"model\" and add all layers into the our model. but vgg19 doesn't include\n",
    "#flatten and dense layers. we will add according to the our dataset. ın this file, we have 10 classes.\n",
    "for layer in vgg_layer_list:\n",
    "    model.add(layer)"
   ]
  },
  {
   "cell_type": "code",
   "execution_count": 13,
   "metadata": {},
   "outputs": [
    {
     "name": "stdout",
     "output_type": "stream",
     "text": [
      "Model: \"sequential_1\"\n",
      "_________________________________________________________________\n",
      "Layer (type)                 Output Shape              Param #   \n",
      "=================================================================\n",
      "block1_conv1 (Conv2D)        (None, 48, 48, 64)        1792      \n",
      "_________________________________________________________________\n",
      "block1_conv2 (Conv2D)        (None, 48, 48, 64)        36928     \n",
      "_________________________________________________________________\n",
      "block1_pool (MaxPooling2D)   (None, 24, 24, 64)        0         \n",
      "_________________________________________________________________\n",
      "block2_conv1 (Conv2D)        (None, 24, 24, 128)       73856     \n",
      "_________________________________________________________________\n",
      "block2_conv2 (Conv2D)        (None, 24, 24, 128)       147584    \n",
      "_________________________________________________________________\n",
      "block2_pool (MaxPooling2D)   (None, 12, 12, 128)       0         \n",
      "_________________________________________________________________\n",
      "block3_conv1 (Conv2D)        (None, 12, 12, 256)       295168    \n",
      "_________________________________________________________________\n",
      "block3_conv2 (Conv2D)        (None, 12, 12, 256)       590080    \n",
      "_________________________________________________________________\n",
      "block3_conv3 (Conv2D)        (None, 12, 12, 256)       590080    \n",
      "_________________________________________________________________\n",
      "block3_conv4 (Conv2D)        (None, 12, 12, 256)       590080    \n",
      "_________________________________________________________________\n",
      "block3_pool (MaxPooling2D)   (None, 6, 6, 256)         0         \n",
      "_________________________________________________________________\n",
      "block4_conv1 (Conv2D)        (None, 6, 6, 512)         1180160   \n",
      "_________________________________________________________________\n",
      "block4_conv2 (Conv2D)        (None, 6, 6, 512)         2359808   \n",
      "_________________________________________________________________\n",
      "block4_conv3 (Conv2D)        (None, 6, 6, 512)         2359808   \n",
      "_________________________________________________________________\n",
      "block4_conv4 (Conv2D)        (None, 6, 6, 512)         2359808   \n",
      "_________________________________________________________________\n",
      "block4_pool (MaxPooling2D)   (None, 3, 3, 512)         0         \n",
      "_________________________________________________________________\n",
      "block5_conv1 (Conv2D)        (None, 3, 3, 512)         2359808   \n",
      "_________________________________________________________________\n",
      "block5_conv2 (Conv2D)        (None, 3, 3, 512)         2359808   \n",
      "_________________________________________________________________\n",
      "block5_conv3 (Conv2D)        (None, 3, 3, 512)         2359808   \n",
      "_________________________________________________________________\n",
      "block5_conv4 (Conv2D)        (None, 3, 3, 512)         2359808   \n",
      "_________________________________________________________________\n",
      "block5_pool (MaxPooling2D)   (None, 1, 1, 512)         0         \n",
      "=================================================================\n",
      "Total params: 20,024,384\n",
      "Trainable params: 20,024,384\n",
      "Non-trainable params: 0\n",
      "_________________________________________________________________\n",
      "None\n"
     ]
    }
   ],
   "source": [
    "print(model.summary())"
   ]
  },
  {
   "cell_type": "code",
   "execution_count": 14,
   "metadata": {},
   "outputs": [],
   "source": [
    "for layers in model.layers:\n",
    "    layers.trainable = False    #we do not need to train again previous layers. because they have already trained."
   ]
  },
  {
   "cell_type": "code",
   "execution_count": 15,
   "metadata": {},
   "outputs": [
    {
     "name": "stdout",
     "output_type": "stream",
     "text": [
      "Model: \"sequential_1\"\n",
      "_________________________________________________________________\n",
      "Layer (type)                 Output Shape              Param #   \n",
      "=================================================================\n",
      "block1_conv1 (Conv2D)        (None, 48, 48, 64)        1792      \n",
      "_________________________________________________________________\n",
      "block1_conv2 (Conv2D)        (None, 48, 48, 64)        36928     \n",
      "_________________________________________________________________\n",
      "block1_pool (MaxPooling2D)   (None, 24, 24, 64)        0         \n",
      "_________________________________________________________________\n",
      "block2_conv1 (Conv2D)        (None, 24, 24, 128)       73856     \n",
      "_________________________________________________________________\n",
      "block2_conv2 (Conv2D)        (None, 24, 24, 128)       147584    \n",
      "_________________________________________________________________\n",
      "block2_pool (MaxPooling2D)   (None, 12, 12, 128)       0         \n",
      "_________________________________________________________________\n",
      "block3_conv1 (Conv2D)        (None, 12, 12, 256)       295168    \n",
      "_________________________________________________________________\n",
      "block3_conv2 (Conv2D)        (None, 12, 12, 256)       590080    \n",
      "_________________________________________________________________\n",
      "block3_conv3 (Conv2D)        (None, 12, 12, 256)       590080    \n",
      "_________________________________________________________________\n",
      "block3_conv4 (Conv2D)        (None, 12, 12, 256)       590080    \n",
      "_________________________________________________________________\n",
      "block3_pool (MaxPooling2D)   (None, 6, 6, 256)         0         \n",
      "_________________________________________________________________\n",
      "block4_conv1 (Conv2D)        (None, 6, 6, 512)         1180160   \n",
      "_________________________________________________________________\n",
      "block4_conv2 (Conv2D)        (None, 6, 6, 512)         2359808   \n",
      "_________________________________________________________________\n",
      "block4_conv3 (Conv2D)        (None, 6, 6, 512)         2359808   \n",
      "_________________________________________________________________\n",
      "block4_conv4 (Conv2D)        (None, 6, 6, 512)         2359808   \n",
      "_________________________________________________________________\n",
      "block4_pool (MaxPooling2D)   (None, 3, 3, 512)         0         \n",
      "_________________________________________________________________\n",
      "block5_conv1 (Conv2D)        (None, 3, 3, 512)         2359808   \n",
      "_________________________________________________________________\n",
      "block5_conv2 (Conv2D)        (None, 3, 3, 512)         2359808   \n",
      "_________________________________________________________________\n",
      "block5_conv3 (Conv2D)        (None, 3, 3, 512)         2359808   \n",
      "_________________________________________________________________\n",
      "block5_conv4 (Conv2D)        (None, 3, 3, 512)         2359808   \n",
      "_________________________________________________________________\n",
      "block5_pool (MaxPooling2D)   (None, 1, 1, 512)         0         \n",
      "_________________________________________________________________\n",
      "flatten_1 (Flatten)          (None, 512)               0         \n",
      "_________________________________________________________________\n",
      "dense_1 (Dense)              (None, 128)               65664     \n",
      "_________________________________________________________________\n",
      "dense_2 (Dense)              (None, 10)                1290      \n",
      "=================================================================\n",
      "Total params: 20,091,338\n",
      "Trainable params: 66,954\n",
      "Non-trainable params: 20,024,384\n",
      "_________________________________________________________________\n",
      "None\n"
     ]
    }
   ],
   "source": [
    "# fully conv layers are added.\n",
    "model.add(Flatten())\n",
    "model.add(Dense(128))\n",
    "model.add(Dense(numberOfClass, activation= \"softmax\"))   #our output neuron number is actuallu number of classes. therefore, our\n",
    "#softmax function produce probability vector with the size of 10.\n",
    "\n",
    "print(model.summary())"
   ]
  },
  {
   "cell_type": "code",
   "execution_count": 16,
   "metadata": {},
   "outputs": [],
   "source": [
    "model.compile(loss = \"categorical_crossentropy\",   #model compile parameters. all can be changed.\n",
    "              optimizer = \"rmsprop\",\n",
    "              metrics = [\"accuracy\"])"
   ]
  },
  {
   "cell_type": "code",
   "execution_count": 17,
   "metadata": {},
   "outputs": [
    {
     "name": "stdout",
     "output_type": "stream",
     "text": [
      "WARNING:tensorflow:From C:\\ProgramData\\Anaconda3\\envs\\transferpy37\\lib\\site-packages\\keras\\backend\\tensorflow_backend.py:422: The name tf.global_variables is deprecated. Please use tf.compat.v1.global_variables instead.\n",
      "\n",
      "Train on 40000 samples, validate on 10000 samples\n",
      "Epoch 1/20\n",
      "40000/40000 [==============================] - 898s 22ms/step - loss: 8.8736 - accuracy: 0.4025 - val_loss: 5.2619 - val_accuracy: 0.4751\n",
      "Epoch 2/20\n",
      "40000/40000 [==============================] - 882s 22ms/step - loss: 4.7017 - accuracy: 0.4932 - val_loss: 3.5932 - val_accuracy: 0.5340\n",
      "Epoch 3/20\n",
      "40000/40000 [==============================] - 919s 23ms/step - loss: 3.7427 - accuracy: 0.5151 - val_loss: 3.6993 - val_accuracy: 0.5020\n",
      "Epoch 4/20\n",
      "40000/40000 [==============================] - 939s 23ms/step - loss: 3.3253 - accuracy: 0.5193 - val_loss: 2.7818 - val_accuracy: 0.5401\n",
      "Epoch 5/20\n",
      "40000/40000 [==============================] - 899s 22ms/step - loss: 3.1301 - accuracy: 0.5214 - val_loss: 3.3582 - val_accuracy: 0.4941\n",
      "Epoch 6/20\n",
      "40000/40000 [==============================] - 904s 23ms/step - loss: 2.9058 - accuracy: 0.5275 - val_loss: 3.0734 - val_accuracy: 0.5264\n",
      "Epoch 7/20\n",
      "40000/40000 [==============================] - 898s 22ms/step - loss: 2.7875 - accuracy: 0.5276 - val_loss: 3.0394 - val_accuracy: 0.4950\n",
      "Epoch 8/20\n",
      "40000/40000 [==============================] - 884s 22ms/step - loss: 2.6458 - accuracy: 0.5314 - val_loss: 3.1150 - val_accuracy: 0.4819\n",
      "Epoch 9/20\n",
      "40000/40000 [==============================] - 915s 23ms/step - loss: 2.5429 - accuracy: 0.5262 - val_loss: 2.8534 - val_accuracy: 0.5394\n",
      "Epoch 10/20\n",
      "40000/40000 [==============================] - 926s 23ms/step - loss: 2.4565 - accuracy: 0.5329 - val_loss: 2.8767 - val_accuracy: 0.4796\n",
      "Epoch 11/20\n",
      "40000/40000 [==============================] - 917s 23ms/step - loss: 2.3577 - accuracy: 0.5335 - val_loss: 2.2710 - val_accuracy: 0.5104\n",
      "Epoch 12/20\n",
      "40000/40000 [==============================] - 1071s 27ms/step - loss: 2.2787 - accuracy: 0.5321 - val_loss: 2.1106 - val_accuracy: 0.5390\n",
      "Epoch 13/20\n",
      "40000/40000 [==============================] - 1024s 26ms/step - loss: 2.1528 - accuracy: 0.5358 - val_loss: 2.9719 - val_accuracy: 0.5290\n",
      "Epoch 14/20\n",
      "40000/40000 [==============================] - 1094s 27ms/step - loss: 2.0929 - accuracy: 0.5432 - val_loss: 2.4800 - val_accuracy: 0.5175\n",
      "Epoch 15/20\n",
      "40000/40000 [==============================] - 1031s 26ms/step - loss: 2.0012 - accuracy: 0.5434 - val_loss: 2.2973 - val_accuracy: 0.5053\n",
      "Epoch 16/20\n",
      "40000/40000 [==============================] - 1338s 33ms/step - loss: 1.9367 - accuracy: 0.5412 - val_loss: 2.1974 - val_accuracy: 0.5088\n",
      "Epoch 17/20\n",
      "40000/40000 [==============================] - 1191s 30ms/step - loss: 1.8511 - accuracy: 0.5415 - val_loss: 2.2870 - val_accuracy: 0.5204\n",
      "Epoch 18/20\n",
      "40000/40000 [==============================] - 978s 24ms/step - loss: 1.7887 - accuracy: 0.5511 - val_loss: 1.9671 - val_accuracy: 0.5130\n",
      "Epoch 19/20\n",
      "40000/40000 [==============================] - 1987s 50ms/step - loss: 1.7394 - accuracy: 0.5482 - val_loss: 1.6844 - val_accuracy: 0.5581\n",
      "Epoch 20/20\n",
      "40000/40000 [==============================] - 1127s 28ms/step - loss: 1.6656 - accuracy: 0.5542 - val_loss: 1.6895 - val_accuracy: 0.5469\n"
     ]
    }
   ],
   "source": [
    "#training process. If you wish, you can try with different number of epoch etc. \"hist\" variable is important and stand for the history.\n",
    "#we can reach accuracy and loss by using this dictionary below.\n",
    "hist = model.fit(x_train, y_train, \n",
    "                 validation_split = 0.2, epochs = 20, \n",
    "                 batch_size = 1000)\n"
   ]
  },
  {
   "cell_type": "code",
   "execution_count": 22,
   "metadata": {},
   "outputs": [
    {
     "name": "stdout",
     "output_type": "stream",
     "text": [
      "10000/10000 [==============================] - 186s 19ms/step\n",
      "\n",
      "Test score: 1.7055745908737183\n",
      "Test accuracy: 0.5435000061988831\n"
     ]
    }
   ],
   "source": [
    "score = model.evaluate(x_test, y_test,    #we can evaluate the success of our model. for now, I trained only 20 epoch and this is not necesssary as you seen. \n",
    "                       batch_size=32, verbose=1)\n",
    "print(\"\\nTest score:\", score[0])\n",
    "print('Test accuracy:', score[1])"
   ]
  },
  {
   "cell_type": "code",
   "execution_count": 23,
   "metadata": {},
   "outputs": [],
   "source": [
    "#save entire model\n",
    "model.save('CIFAR10-20epoch.h5')"
   ]
  },
  {
   "cell_type": "code",
   "execution_count": 24,
   "metadata": {},
   "outputs": [],
   "source": [
    "#%%  model save only weihts\n",
    "model.save_weights(\"CIFAR10-20epochweights.h5\")"
   ]
  },
  {
   "cell_type": "code",
   "execution_count": 25,
   "metadata": {},
   "outputs": [
    {
     "name": "stdout",
     "output_type": "stream",
     "text": [
      "dict_keys(['val_loss', 'val_accuracy', 'loss', 'accuracy'])\n"
     ]
    }
   ],
   "source": [
    "print(hist.history.keys())  #these keys give us the model perfrmance and plot them"
   ]
  },
  {
   "cell_type": "code",
   "execution_count": 26,
   "metadata": {},
   "outputs": [
    {
     "data": {
      "image/png": "[encoded data removed]",
      "text/plain": [
       "<Figure size 432x288 with 1 Axes>"
      ]
     },
     "metadata": {
      "needs_background": "light"
     },
     "output_type": "display_data"
    }
   ],
   "source": [
    "#%%\n",
    "plt.plot(hist.history[\"loss\"], label = \"train loss\")\n",
    "plt.plot(hist.history[\"val_loss\"], label = \"val loss\")\n",
    "plt.legend()\n",
    "plt.show()"
   ]
  },
  {
   "cell_type": "code",
   "execution_count": 27,
   "metadata": {},
   "outputs": [
    {
     "data": {
      "image/png": "[encoded data removed]",
      "text/plain": [
       "<Figure size 432x288 with 1 Axes>"
      ]
     },
     "metadata": {
      "needs_background": "light"
     },
     "output_type": "display_data"
    }
   ],
   "source": [
    "plt.figure()\n",
    "plt.plot(hist.history[\"accuracy\"], label = \"train acc\")\n",
    "plt.plot(hist.history[\"val_accuracy\"], label = \"val acc\")\n",
    "plt.legend()\n",
    "plt.show()"
   ]
  },
  {
   "cell_type": "code",
   "execution_count": null,
   "metadata": {},
   "outputs": [],
   "source": []
  },
  {
   "cell_type": "code",
   "execution_count": 28,
   "metadata": {},
   "outputs": [
    {
     "data": {
      "text/html": [
       "<div>\n",
       "<style scoped>\n",
       "    .dataframe tbody tr th:only-of-type {\n",
       "        vertical-align: middle;\n",
       "    }\n",
       "\n",
       "    .dataframe tbody tr th {\n",
       "        vertical-align: top;\n",
       "    }\n",
       "\n",
       "    .dataframe thead th {\n",
       "        text-align: right;\n",
       "    }\n",
       "</style>\n",
       "<table border=\"1\" class=\"dataframe\">\n",
       "  <thead>\n",
       "    <tr style=\"text-align: right;\">\n",
       "      <th></th>\n",
       "      <th>val_loss</th>\n",
       "      <th>val_accuracy</th>\n",
       "      <th>loss</th>\n",
       "      <th>accuracy</th>\n",
       "    </tr>\n",
       "  </thead>\n",
       "  <tbody>\n",
       "    <tr>\n",
       "      <th>0</th>\n",
       "      <td>5.261930</td>\n",
       "      <td>0.4751</td>\n",
       "      <td>8.873649</td>\n",
       "      <td>0.402500</td>\n",
       "    </tr>\n",
       "    <tr>\n",
       "      <th>1</th>\n",
       "      <td>3.593234</td>\n",
       "      <td>0.5340</td>\n",
       "      <td>4.701705</td>\n",
       "      <td>0.493200</td>\n",
       "    </tr>\n",
       "    <tr>\n",
       "      <th>2</th>\n",
       "      <td>3.699279</td>\n",
       "      <td>0.5020</td>\n",
       "      <td>3.742661</td>\n",
       "      <td>0.515100</td>\n",
       "    </tr>\n",
       "    <tr>\n",
       "      <th>3</th>\n",
       "      <td>2.781819</td>\n",
       "      <td>0.5401</td>\n",
       "      <td>3.325340</td>\n",
       "      <td>0.519300</td>\n",
       "    </tr>\n",
       "    <tr>\n",
       "      <th>4</th>\n",
       "      <td>3.358203</td>\n",
       "      <td>0.4941</td>\n",
       "      <td>3.130097</td>\n",
       "      <td>0.521375</td>\n",
       "    </tr>\n",
       "    <tr>\n",
       "      <th>5</th>\n",
       "      <td>3.073381</td>\n",
       "      <td>0.5264</td>\n",
       "      <td>2.905805</td>\n",
       "      <td>0.527450</td>\n",
       "    </tr>\n",
       "    <tr>\n",
       "      <th>6</th>\n",
       "      <td>3.039353</td>\n",
       "      <td>0.4950</td>\n",
       "      <td>2.787483</td>\n",
       "      <td>0.527600</td>\n",
       "    </tr>\n",
       "    <tr>\n",
       "      <th>7</th>\n",
       "      <td>3.114985</td>\n",
       "      <td>0.4819</td>\n",
       "      <td>2.645786</td>\n",
       "      <td>0.531400</td>\n",
       "    </tr>\n",
       "    <tr>\n",
       "      <th>8</th>\n",
       "      <td>2.853448</td>\n",
       "      <td>0.5394</td>\n",
       "      <td>2.542896</td>\n",
       "      <td>0.526175</td>\n",
       "    </tr>\n",
       "    <tr>\n",
       "      <th>9</th>\n",
       "      <td>2.876687</td>\n",
       "      <td>0.4796</td>\n",
       "      <td>2.456466</td>\n",
       "      <td>0.532900</td>\n",
       "    </tr>\n",
       "    <tr>\n",
       "      <th>10</th>\n",
       "      <td>2.271026</td>\n",
       "      <td>0.5104</td>\n",
       "      <td>2.357662</td>\n",
       "      <td>0.533500</td>\n",
       "    </tr>\n",
       "    <tr>\n",
       "      <th>11</th>\n",
       "      <td>2.110607</td>\n",
       "      <td>0.5390</td>\n",
       "      <td>2.278700</td>\n",
       "      <td>0.532050</td>\n",
       "    </tr>\n",
       "    <tr>\n",
       "      <th>12</th>\n",
       "      <td>2.971859</td>\n",
       "      <td>0.5290</td>\n",
       "      <td>2.152796</td>\n",
       "      <td>0.535825</td>\n",
       "    </tr>\n",
       "    <tr>\n",
       "      <th>13</th>\n",
       "      <td>2.479961</td>\n",
       "      <td>0.5175</td>\n",
       "      <td>2.092871</td>\n",
       "      <td>0.543200</td>\n",
       "    </tr>\n",
       "    <tr>\n",
       "      <th>14</th>\n",
       "      <td>2.297316</td>\n",
       "      <td>0.5053</td>\n",
       "      <td>2.001155</td>\n",
       "      <td>0.543400</td>\n",
       "    </tr>\n",
       "    <tr>\n",
       "      <th>15</th>\n",
       "      <td>2.197409</td>\n",
       "      <td>0.5088</td>\n",
       "      <td>1.936676</td>\n",
       "      <td>0.541200</td>\n",
       "    </tr>\n",
       "    <tr>\n",
       "      <th>16</th>\n",
       "      <td>2.286993</td>\n",
       "      <td>0.5204</td>\n",
       "      <td>1.851063</td>\n",
       "      <td>0.541550</td>\n",
       "    </tr>\n",
       "    <tr>\n",
       "      <th>17</th>\n",
       "      <td>1.967097</td>\n",
       "      <td>0.5130</td>\n",
       "      <td>1.788658</td>\n",
       "      <td>0.551100</td>\n",
       "    </tr>\n",
       "    <tr>\n",
       "      <th>18</th>\n",
       "      <td>1.684442</td>\n",
       "      <td>0.5581</td>\n",
       "      <td>1.739426</td>\n",
       "      <td>0.548225</td>\n",
       "    </tr>\n",
       "    <tr>\n",
       "      <th>19</th>\n",
       "      <td>1.689504</td>\n",
       "      <td>0.5469</td>\n",
       "      <td>1.665620</td>\n",
       "      <td>0.554175</td>\n",
       "    </tr>\n",
       "  </tbody>\n",
       "</table>\n",
       "</div>"
      ],
      "text/plain": [
       "    val_loss  val_accuracy      loss  accuracy\n",
       "0   5.261930        0.4751  8.873649  0.402500\n",
       "1   3.593234        0.5340  4.701705  0.493200\n",
       "2   3.699279        0.5020  3.742661  0.515100\n",
       "3   2.781819        0.5401  3.325340  0.519300\n",
       "4   3.358203        0.4941  3.130097  0.521375\n",
       "5   3.073381        0.5264  2.905805  0.527450\n",
       "6   3.039353        0.4950  2.787483  0.527600\n",
       "7   3.114985        0.4819  2.645786  0.531400\n",
       "8   2.853448        0.5394  2.542896  0.526175\n",
       "9   2.876687        0.4796  2.456466  0.532900\n",
       "10  2.271026        0.5104  2.357662  0.533500\n",
       "11  2.110607        0.5390  2.278700  0.532050\n",
       "12  2.971859        0.5290  2.152796  0.535825\n",
       "13  2.479961        0.5175  2.092871  0.543200\n",
       "14  2.297316        0.5053  2.001155  0.543400\n",
       "15  2.197409        0.5088  1.936676  0.541200\n",
       "16  2.286993        0.5204  1.851063  0.541550\n",
       "17  1.967097        0.5130  1.788658  0.551100\n",
       "18  1.684442        0.5581  1.739426  0.548225\n",
       "19  1.689504        0.5469  1.665620  0.554175"
      ]
     },
     "execution_count": 28,
     "metadata": {},
     "output_type": "execute_result"
    }
   ],
   "source": [
    "#%% save model history in different ways\n",
    "import pandas as pd\n",
    "# convert the history.history dict to a pandas DataFrame:     \n",
    "hist_df = pd.DataFrame(hist.history) \n",
    "\n",
    "# save to json:  \n",
    "hist_json_file = 'transfer_learning_vgg19_cfar10.json' \n",
    "with open(hist_json_file, mode='w') as f:\n",
    "    hist_df.to_json(f)\n",
    "\n",
    "# or save to csv: \n",
    "hist_csv_file = 'transfer_learning_vgg19_cfar10.csv'\n",
    "with open(hist_csv_file, mode='w') as f:\n",
    "    hist_df.to_csv(f)\n",
    "\n",
    "hist_df"
   ]
  },
  {
   "cell_type": "code",
   "execution_count": 29,
   "metadata": {},
   "outputs": [
    {
     "data": {
      "text/plain": [
       "{'val_loss': {'0': 5.2619301319,\n",
       "  '1': 3.5932338953,\n",
       "  '2': 3.6992794275,\n",
       "  '3': 2.7818194628,\n",
       "  '4': 3.3582027435,\n",
       "  '5': 3.0733811378,\n",
       "  '6': 3.0393529177,\n",
       "  '7': 3.1149845839,\n",
       "  '8': 2.853447938,\n",
       "  '9': 2.8766870737,\n",
       "  '10': 2.2710261583,\n",
       "  '11': 2.1106069684,\n",
       "  '12': 2.9718587637,\n",
       "  '13': 2.4799608707,\n",
       "  '14': 2.2973158598,\n",
       "  '15': 2.1974089622,\n",
       "  '16': 2.2869931459,\n",
       "  '17': 1.967097199,\n",
       "  '18': 1.6844415188,\n",
       "  '19': 1.6895042896},\n",
       " 'val_accuracy': {'0': 0.4751000106,\n",
       "  '1': 0.5339999795,\n",
       "  '2': 0.5019999743,\n",
       "  '3': 0.5400999784,\n",
       "  '4': 0.4941000044,\n",
       "  '5': 0.5264000297,\n",
       "  '6': 0.4950000048,\n",
       "  '7': 0.4819000065,\n",
       "  '8': 0.5393999815,\n",
       "  '9': 0.4796000123,\n",
       "  '10': 0.5103999972,\n",
       "  '11': 0.5389999747,\n",
       "  '12': 0.5289999843,\n",
       "  '13': 0.5174999833,\n",
       "  '14': 0.5052999854,\n",
       "  '15': 0.5088000298,\n",
       "  '16': 0.5203999877,\n",
       "  '17': 0.5130000114,\n",
       "  '18': 0.5580999851,\n",
       "  '19': 0.5468999743},\n",
       " 'loss': {'0': 8.8736488938,\n",
       "  '1': 4.701705271,\n",
       "  '2': 3.7426612318,\n",
       "  '3': 3.3253395975,\n",
       "  '4': 3.1300973535,\n",
       "  '5': 2.9058050215,\n",
       "  '6': 2.7874825954,\n",
       "  '7': 2.6457858443,\n",
       "  '8': 2.5428957582,\n",
       "  '9': 2.4564655334,\n",
       "  '10': 2.3576622546,\n",
       "  '11': 2.2787003428,\n",
       "  '12': 2.1527962178,\n",
       "  '13': 2.0928714544,\n",
       "  '14': 2.0011546254,\n",
       "  '15': 1.9366756022,\n",
       "  '16': 1.8510626495,\n",
       "  '17': 1.78865785,\n",
       "  '18': 1.7394260168,\n",
       "  '19': 1.6656195402},\n",
       " 'accuracy': {'0': 0.4025000036,\n",
       "  '1': 0.4932000041,\n",
       "  '2': 0.5151000023,\n",
       "  '3': 0.519299984,\n",
       "  '4': 0.5213750005,\n",
       "  '5': 0.5274500251,\n",
       "  '6': 0.5275999904,\n",
       "  '7': 0.5314000249,\n",
       "  '8': 0.5261750221,\n",
       "  '9': 0.5328999758,\n",
       "  '10': 0.5335000157,\n",
       "  '11': 0.5320500135,\n",
       "  '12': 0.5358250141,\n",
       "  '13': 0.543200016,\n",
       "  '14': 0.5433999896,\n",
       "  '15': 0.5411999822,\n",
       "  '16': 0.5415499806,\n",
       "  '17': 0.5511000156,\n",
       "  '18': 0.5482249856,\n",
       "  '19': 0.5541750193}}"
      ]
     },
     "execution_count": 29,
     "metadata": {},
     "output_type": "execute_result"
    }
   ],
   "source": [
    "#%% load hstory from thr different files(it is saved in previous cell)\n",
    "import json, codecs\n",
    "with codecs.open(\"transfer_learning_vgg19_cfar10.json\",\"r\",encoding = \"utf-8\") as f:\n",
    "    historyFile = json.loads(f.read())\n",
    "\n",
    "    \n",
    "historyFile"
   ]
  },
  {
   "cell_type": "code",
   "execution_count": 30,
   "metadata": {},
   "outputs": [],
   "source": [
    "# PREDICT NEW IMAGES with TRAINED MODEL"
   ]
  },
  {
   "cell_type": "code",
   "execution_count": 7,
   "metadata": {},
   "outputs": [
    {
     "data": {
      "image/png": "[encoded data removed]",
      "text/plain": [
       "<Figure size 432x288 with 1 Axes>"
      ]
     },
     "metadata": {
      "needs_background": "light"
     },
     "output_type": "display_data"
    },
    {
     "data": {
      "text/plain": [
       "'airplane'"
      ]
     },
     "execution_count": 7,
     "metadata": {},
     "output_type": "execute_result"
    }
   ],
   "source": [
    "from keras.preprocessing.image import load_img\n",
    "from keras.preprocessing.image import img_to_array\n",
    "from keras.preprocessing.image import array_to_img\n",
    "import cv2\n",
    "import tensorflow as tf\n",
    "import numpy as np\n",
    "\n",
    "img_path = \"airplane.png\"\n",
    "# load the image\n",
    "img = load_img(img_path)\n",
    "# convert to numpy array\n",
    "img_array = img_to_array(img)\n",
    "plt.figure()\n",
    "plt.imshow(img_array.astype(np.uint8))\n",
    "plt.axis(\"off\")\n",
    "plt.show()   #our resized image (bigger than the previous)\n",
    "#resize our image which is suitable for our model\n",
    "img_array = cv2.resize(img_array,(48,48))\n",
    "\n",
    "\n",
    "img_array = np.expand_dims(img_array, axis=0)\n",
    "classes = [\"airplane\",\"automobile\",\"bird\",\"cat\",\"deer\",\"dog\",\"frog\",\"horse\",\"ship\",\"truck\"]\n",
    "\n",
    "predictions = model.predict(img_array)\n",
    "maxProbIndice = np.argmax(predictions)\n",
    "maxProbIndice\n",
    "\n",
    "classes[maxProbIndice]"
   ]
  },
  {
   "cell_type": "code",
   "execution_count": null,
   "metadata": {},
   "outputs": [],
   "source": []
  },
  {
   "cell_type": "code",
   "execution_count": null,
   "metadata": {},
   "outputs": [],
   "source": []
  }
 ],
 "metadata": {
  "kernelspec": {
   "display_name": "Python 3",
   "language": "python",
   "name": "python3"
  },
  "language_info": {
   "codemirror_mode": {
    "name": "ipython",
    "version": 3
   },
   "file_extension": ".py",
   "mimetype": "text/x-python",
   "name": "python",
   "nbconvert_exporter": "python",
   "pygments_lexer": "ipython3",
   "version": "3.7.7"
  }
 },
 "nbformat": 4,
 "nbformat_minor": 4
}
